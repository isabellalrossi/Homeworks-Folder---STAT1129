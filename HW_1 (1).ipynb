{
  "nbformat": 4,
  "nbformat_minor": 0,
  "metadata": {
    "colab": {
      "provenance": []
    },
    "kernelspec": {
      "name": "python3",
      "display_name": "Python 3"
    },
    "language_info": {
      "name": "python"
    }
  },
  "cells": [
    {
      "cell_type": "markdown",
      "source": [
        "1. \n",
        "a) Generate a list of numbers from 30 to 60 with interval 5, using range. for example, 30, 35, 40, …… 60. [0.5 point]\n",
        "b) Order you list in reversed order. [0.5 point]\n",
        "c) Then insert 65 to the beginning of your new list. [0.5 point]\n",
        "The final resulting list will look like 65, 60, …, 30. "
      ],
      "metadata": {
        "id": "EUVWAdBZvCvq"
      }
    },
    {
      "cell_type": "code",
      "execution_count": 21,
      "metadata": {
        "id": "fmNSQIPgvAyU",
        "colab": {
          "base_uri": "https://localhost:8080/"
        },
        "outputId": "507016b7-4b2b-46fd-e355-d87130c83244"
      },
      "outputs": [
        {
          "output_type": "stream",
          "name": "stdout",
          "text": [
            "[30, 35, 40, 45, 50, 55, 60]\n"
          ]
        }
      ],
      "source": [
        "mylist=list(range(30,65,5)) #list of numbers from 30 to 60 with intervals of 5\n",
        "print(mylist)"
      ]
    },
    {
      "cell_type": "code",
      "source": [
        "print(mylist[::-1]) #get the whole list backwards"
      ],
      "metadata": {
        "colab": {
          "base_uri": "https://localhost:8080/"
        },
        "id": "sDPhW73Fhp3G",
        "outputId": "bdf70252-4793-4f7e-aed8-9a303d4648ea"
      },
      "execution_count": 22,
      "outputs": [
        {
          "output_type": "stream",
          "name": "stdout",
          "text": [
            "[60, 55, 50, 45, 40, 35, 30]\n"
          ]
        }
      ]
    },
    {
      "cell_type": "code",
      "source": [
        "mylist=[60, 55, 50, 45, 40, 35, 30] #making sure the list is now reverse (new list)\n",
        "mylist.insert(0,'65') #to insert item at position zero\n",
        "print(mylist)"
      ],
      "metadata": {
        "colab": {
          "base_uri": "https://localhost:8080/"
        },
        "id": "RJSjkDOriQyv",
        "outputId": "a2cbdf78-00b7-4200-f9d6-898720fe5485"
      },
      "execution_count": 25,
      "outputs": [
        {
          "output_type": "stream",
          "name": "stdout",
          "text": [
            "['65', 60, 55, 50, 45, 40, 35, 30]\n"
          ]
        }
      ]
    },
    {
      "cell_type": "markdown",
      "source": [
        "2. \n",
        "a) Create an empty list. Append integers from 0 to 20 to this list; [0.5 point]\n",
        "b) delete item 0; [0.5 point]\n",
        "c) return the length, maximal and minimal values of the newest list; [0.5 point]\n",
        "d) sum up all the items, e.g: 0+1+2+3+…+20 [0.5 point]"
      ],
      "metadata": {
        "id": "vFWtDG_bvVjl"
      }
    },
    {
      "cell_type": "code",
      "source": [
        "listtwo=list() #empty list\n",
        "print(listtwo)"
      ],
      "metadata": {
        "id": "27zYDNFkvaBP",
        "colab": {
          "base_uri": "https://localhost:8080/"
        },
        "outputId": "d21fddfa-9dd2-4c4c-aaef-a00f3af5c208"
      },
      "execution_count": 34,
      "outputs": [
        {
          "output_type": "stream",
          "name": "stdout",
          "text": [
            "[]\n"
          ]
        }
      ]
    },
    {
      "cell_type": "code",
      "source": [
        "for i in range(0,21):\n",
        "  listtwo.append(i) #adding 1-20 to the empty list\n",
        "else: \n",
        "  print(listtwo)"
      ],
      "metadata": {
        "colab": {
          "base_uri": "https://localhost:8080/"
        },
        "id": "BVJngkfmlAHl",
        "outputId": "d365d3ee-70e0-41a8-9e49-78fa14d3006f"
      },
      "execution_count": 35,
      "outputs": [
        {
          "output_type": "stream",
          "name": "stdout",
          "text": [
            "[0, 1, 2, 3, 4, 5, 6, 7, 8, 9, 10, 11, 12, 13, 14, 15, 16, 17, 18, 19, 20]\n"
          ]
        }
      ]
    },
    {
      "cell_type": "code",
      "source": [
        "listtwo.pop(0) #to remove item 0\n",
        "print(listtwo)"
      ],
      "metadata": {
        "colab": {
          "base_uri": "https://localhost:8080/"
        },
        "id": "42jFZ1S3lEWJ",
        "outputId": "a255d057-7ab5-49fe-8f1a-0bef9a7acf6a"
      },
      "execution_count": 36,
      "outputs": [
        {
          "output_type": "stream",
          "name": "stdout",
          "text": [
            "[1, 2, 3, 4, 5, 6, 7, 8, 9, 10, 11, 12, 13, 14, 15, 16, 17, 18, 19, 20]\n"
          ]
        }
      ]
    },
    {
      "cell_type": "code",
      "source": [
        "print(len(listtwo)) #length of the list"
      ],
      "metadata": {
        "colab": {
          "base_uri": "https://localhost:8080/"
        },
        "id": "JCEXof9blPHf",
        "outputId": "21cce67f-b198-4512-b799-5745159cf350"
      },
      "execution_count": 37,
      "outputs": [
        {
          "output_type": "stream",
          "name": "stdout",
          "text": [
            "20\n"
          ]
        }
      ]
    },
    {
      "cell_type": "code",
      "source": [
        "print(max(listtwo)) #maximum value\n",
        "print(min(listtwo)) #minimum value\n",
        "print(sum(listtwo)) #summing up all values"
      ],
      "metadata": {
        "colab": {
          "base_uri": "https://localhost:8080/"
        },
        "id": "cA5kJZz_lVyC",
        "outputId": "a801bbe0-67bb-4e5d-9724-f88a1de92187"
      },
      "execution_count": 38,
      "outputs": [
        {
          "output_type": "stream",
          "name": "stdout",
          "text": [
            "20\n",
            "1\n",
            "210\n"
          ]
        }
      ]
    },
    {
      "cell_type": "markdown",
      "source": [
        "3. \n",
        "a) Create a weather dictionary. Using for loop, print out all the keys and values in the same line. \n",
        "b) Then add a new pair (“snowy”, “ski”) to your dictionary. [0.5 point]"
      ],
      "metadata": {
        "id": "ZwzrrPdivleT"
      }
    },
    {
      "cell_type": "code",
      "source": [
        "weather={\"sunny\":\"football\",\"cloudy\":\"golf\",\"rainy\":\"netflix\"} #lists and values printed in the same line\n",
        "weather"
      ],
      "metadata": {
        "id": "mCTmIBGBvy1P",
        "colab": {
          "base_uri": "https://localhost:8080/"
        },
        "outputId": "098e0a9e-079b-45dc-b6a4-2ab034a668f0"
      },
      "execution_count": 49,
      "outputs": [
        {
          "output_type": "execute_result",
          "data": {
            "text/plain": [
              "{'sunny': 'football', 'cloudy': 'golf', 'rainy': 'netflix'}"
            ]
          },
          "metadata": {},
          "execution_count": 49
        }
      ]
    },
    {
      "cell_type": "code",
      "source": [
        "list(weather.keys()) #only keys"
      ],
      "metadata": {
        "colab": {
          "base_uri": "https://localhost:8080/"
        },
        "id": "JHRsnUpHl2Wh",
        "outputId": "fda5aa56-0690-462e-c661-0762663705c2"
      },
      "execution_count": 50,
      "outputs": [
        {
          "output_type": "execute_result",
          "data": {
            "text/plain": [
              "['sunny', 'cloudy', 'rainy']"
            ]
          },
          "metadata": {},
          "execution_count": 50
        }
      ]
    },
    {
      "cell_type": "code",
      "source": [
        "list(weather.values()) #only values"
      ],
      "metadata": {
        "colab": {
          "base_uri": "https://localhost:8080/"
        },
        "id": "elnammvomsLy",
        "outputId": "e923a5ea-9d45-43bd-d357-af2a03cd53ed"
      },
      "execution_count": 51,
      "outputs": [
        {
          "output_type": "execute_result",
          "data": {
            "text/plain": [
              "['football', 'golf', 'netflix']"
            ]
          },
          "metadata": {},
          "execution_count": 51
        }
      ]
    },
    {
      "cell_type": "code",
      "source": [
        "weather[\"snow\"]=\"ski\" #adding new pair to the dictionary\n",
        "weather"
      ],
      "metadata": {
        "colab": {
          "base_uri": "https://localhost:8080/"
        },
        "id": "MJPyQWi2mz8n",
        "outputId": "c0610789-c182-40f9-9393-ee27c70ca919"
      },
      "execution_count": 52,
      "outputs": [
        {
          "output_type": "execute_result",
          "data": {
            "text/plain": [
              "{'sunny': 'football', 'cloudy': 'golf', 'rainy': 'netflix', 'snow': 'ski'}"
            ]
          },
          "metadata": {},
          "execution_count": 52
        }
      ]
    }
  ]
}