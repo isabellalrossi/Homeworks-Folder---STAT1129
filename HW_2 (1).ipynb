{
  "nbformat": 4,
  "nbformat_minor": 0,
  "metadata": {
    "colab": {
      "provenance": []
    },
    "kernelspec": {
      "name": "python3",
      "display_name": "Python 3"
    },
    "language_info": {
      "name": "python"
    }
  },
  "cells": [
    {
      "cell_type": "markdown",
      "source": [
        "1. Using While Loop. As long as n is less than 10, print out n. However, when n equals to 5, stop the loop."
      ],
      "metadata": {
        "id": "25TV6YYo_KCF"
      }
    },
    {
      "cell_type": "code",
      "source": [
        "n=0\n",
        "\n",
        "while n<10:\n",
        "    if n==5:\n",
        "        break\n",
        "    print(n)\n",
        "    n+=1"
      ],
      "metadata": {
        "colab": {
          "base_uri": "https://localhost:8080/"
        },
        "id": "2NfJ8_eAH5Yn",
        "outputId": "f189bc39-641b-4b9f-b982-4b3573aa35d3"
      },
      "execution_count": 3,
      "outputs": [
        {
          "output_type": "stream",
          "name": "stdout",
          "text": [
            "0\n",
            "1\n",
            "2\n",
            "3\n",
            "4\n"
          ]
        }
      ]
    },
    {
      "cell_type": "markdown",
      "source": [
        "2. Using while loop. Initialize n=0. While n is < 5, print out n. Otherwise, print out $n “is not less than 5”.\n",
        "\n"
      ],
      "metadata": {
        "id": "A8fzZmfT_ees"
      }
    },
    {
      "cell_type": "code",
      "source": [
        "n=0\n",
        "\n",
        "while n<5:\n",
        "    print(n)\n",
        "    n+=1\n",
        "\n",
        "print(str(n)+\" is not less than 5\")"
      ],
      "metadata": {
        "colab": {
          "base_uri": "https://localhost:8080/"
        },
        "id": "LYzy55P7I5-M",
        "outputId": "affc9595-f6da-4255-b91b-47084b6bf684"
      },
      "execution_count": 6,
      "outputs": [
        {
          "output_type": "stream",
          "name": "stdout",
          "text": [
            "0\n",
            "1\n",
            "2\n",
            "3\n",
            "4\n",
            "5 is not less than 5\n"
          ]
        }
      ]
    },
    {
      "cell_type": "markdown",
      "source": [
        "3. Create your favorite fruit list, using For Loop, print out all the fruits in your list. However, when one fruit name equals to “apple”, stop the loop. "
      ],
      "metadata": {
        "id": "ShV5fQyY_meH"
      }
    },
    {
      "cell_type": "code",
      "source": [
        "fruits=[\"banana\",\"orange\",\"papaya\",\"apple\"]\n",
        "\n",
        "for fruit in fruits:\n",
        "    if fruit==\"apple\":\n",
        "        print(\"is apple really a fruit?\")\n",
        "        break\n",
        "    else:\n",
        "        print(\"I like \"+fruit)"
      ],
      "metadata": {
        "colab": {
          "base_uri": "https://localhost:8080/"
        },
        "id": "2p9wm7Ac_sR_",
        "outputId": "ecc2fd78-6eb1-4fff-ebbf-b0f5aa0d085a"
      },
      "execution_count": 15,
      "outputs": [
        {
          "output_type": "stream",
          "name": "stdout",
          "text": [
            "I like banana\n",
            "I like orange\n",
            "I like papaya\n",
            "is apple really a fruit?\n"
          ]
        }
      ]
    },
    {
      "cell_type": "markdown",
      "source": [
        "4. Add all the integers from 1 to 30, print out the sum. Using while loop."
      ],
      "metadata": {
        "id": "ucbXYPka_srw"
      }
    },
    {
      "cell_type": "code",
      "source": [
        "n=1\n",
        "summary=0\n",
        "\n",
        "while n<=30:\n",
        "    summary+=n\n",
        "    n+=1\n",
        "\n",
        "print(\"The summary is:\", summary)"
      ],
      "metadata": {
        "colab": {
          "base_uri": "https://localhost:8080/"
        },
        "id": "4vIUsdfT_wPG",
        "outputId": "048a6304-3a0f-4d3c-beeb-3f84edcc66c9"
      },
      "execution_count": 52,
      "outputs": [
        {
          "output_type": "stream",
          "name": "stdout",
          "text": [
            "The summary is: 465\n"
          ]
        }
      ]
    },
    {
      "cell_type": "markdown",
      "source": [
        "5. Using if…elif…else statement, to help grade students’ score. You can define grade yourself, for example, grade = 55"
      ],
      "metadata": {
        "id": "ni9hsSs1_wlP"
      }
    },
    {
      "cell_type": "code",
      "source": [
        "score=74  #alter this depending on the grade and the code will still work \n",
        "\n",
        "if score>=90:\n",
        "    grade=\"A\"\n",
        "elif score>=80:\n",
        "    grade=\"B\"\n",
        "elif score>=70:\n",
        "    grade=\"C\"\n",
        "elif score>=60:\n",
        "    grade=\"D\"\n",
        "else:\n",
        "    grade=\"F\"\n",
        "\n",
        "print(\"The grade for the score\", score, \"is a\", grade)\n"
      ],
      "metadata": {
        "colab": {
          "base_uri": "https://localhost:8080/"
        },
        "id": "dWi6Cd5__244",
        "outputId": "73912586-2bc3-48cc-9aec-95ad5c9c51b0"
      },
      "execution_count": 21,
      "outputs": [
        {
          "output_type": "stream",
          "name": "stdout",
          "text": [
            "The grade for the score 74 is a C\n"
          ]
        }
      ]
    },
    {
      "cell_type": "markdown",
      "source": [
        "6. Define a dictionary, composed with students name and their grade.\n",
        "marks = {‘Andy’:88, ‘Amy’:66, 'James': 90, 'Jules': 55, 'Arthur': 77}"
      ],
      "metadata": {
        "id": "Hqj-JUqu_3Nu"
      }
    },
    {
      "cell_type": "code",
      "source": [
        "marks = {'Andy':88, 'Amy':66, 'James':90, 'Jules':55, 'Arthur':77}"
      ],
      "metadata": {
        "id": "Ley8ValpPPGw"
      },
      "execution_count": 22,
      "outputs": []
    },
    {
      "cell_type": "markdown",
      "source": [
        "a) Using for loop, print out all the students name and their grade. "
      ],
      "metadata": {
        "id": "2nX0vKvP_9vM"
      }
    },
    {
      "cell_type": "code",
      "source": [
        "for name, grade in marks.items():\n",
        "    print(name + \": \" + str(grade))"
      ],
      "metadata": {
        "colab": {
          "base_uri": "https://localhost:8080/"
        },
        "id": "8jyL5tc6AB_j",
        "outputId": "e98838dd-7154-4dbe-9aee-4fb2de4ccdad"
      },
      "execution_count": 24,
      "outputs": [
        {
          "output_type": "stream",
          "name": "stdout",
          "text": [
            "Andy: 88\n",
            "Amy: 66\n",
            "James: 90\n",
            "Jules: 55\n",
            "Arthur: 77\n"
          ]
        }
      ]
    },
    {
      "cell_type": "markdown",
      "source": [
        "b) Of this dictionary, calculate all the student’s mean grade, maximal grade, and minimal grade. "
      ],
      "metadata": {
        "id": "GN4K4MDkACos"
      }
    },
    {
      "cell_type": "code",
      "source": [
        "max_grade=max(marks.values())\n",
        "print(\"Maximal grade:\",max_grade) #calculating max value\n",
        "\n",
        "min_grade=min(marks.values())\n",
        "print(\"Minimal grade:\",min_grade) #calculating min value"
      ],
      "metadata": {
        "colab": {
          "base_uri": "https://localhost:8080/"
        },
        "id": "CfHLaztLU8ep",
        "outputId": "066e4b0b-d75b-4173-8542-e31e55cec8ee"
      },
      "execution_count": 54,
      "outputs": [
        {
          "output_type": "stream",
          "name": "stdout",
          "text": [
            "Maximal grade: 90\n",
            "Minimal grade: 55\n"
          ]
        }
      ]
    },
    {
      "cell_type": "code",
      "source": [
        "mean_grade=sum(marks.values()) / len(marks)\n",
        "print(\"Mean grade:\",mean_grade) #calculating mean value"
      ],
      "metadata": {
        "colab": {
          "base_uri": "https://localhost:8080/"
        },
        "id": "mW3fPuzoikqT",
        "outputId": "2e5c8fc4-f8dc-4c0c-9722-4f4e895724b7"
      },
      "execution_count": 61,
      "outputs": [
        {
          "output_type": "stream",
          "name": "stdout",
          "text": [
            "Mean grade: 75.2\n"
          ]
        }
      ]
    },
    {
      "cell_type": "markdown",
      "source": [
        "c) Using for loop or while loop, for all the keys in the dictionary, print out key. However, if ‘J’ appears, stop the loop. "
      ],
      "metadata": {
        "id": "C3rzmuhOAGJb"
      }
    },
    {
      "cell_type": "code",
      "source": [
        "for key in marks:\n",
        "    print(key)\n",
        "    if key[0]=='J':\n",
        "        break"
      ],
      "metadata": {
        "colab": {
          "base_uri": "https://localhost:8080/"
        },
        "id": "iFzk0j3LAJ_A",
        "outputId": "20acccb6-e500-46df-d3cb-41624c3287c9"
      },
      "execution_count": 38,
      "outputs": [
        {
          "output_type": "stream",
          "name": "stdout",
          "text": [
            "Andy\n",
            "Amy\n",
            "James\n"
          ]
        }
      ]
    },
    {
      "cell_type": "markdown",
      "source": [
        "d) Using for loop or while loop, for all the keys in the dictionary, print out key. However, if ‘J’ appears, skip this key, and continue the loop."
      ],
      "metadata": {
        "id": "H1gz6Nv4AKdg"
      }
    },
    {
      "cell_type": "code",
      "source": [
        "for key in marks:\n",
        "    if key[0]=='J':\n",
        "        continue\n",
        "    print(key)"
      ],
      "metadata": {
        "colab": {
          "base_uri": "https://localhost:8080/"
        },
        "id": "jsOu1ek3AOK-",
        "outputId": "b33a67e3-9691-4a9b-9af8-b4f07392dc6e"
      },
      "execution_count": 40,
      "outputs": [
        {
          "output_type": "stream",
          "name": "stdout",
          "text": [
            "Andy\n",
            "Amy\n",
            "Arthur\n"
          ]
        }
      ]
    }
  ]
}