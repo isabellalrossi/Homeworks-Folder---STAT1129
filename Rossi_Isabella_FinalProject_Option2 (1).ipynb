{
 "cells": [
  {
   "cell_type": "markdown",
   "metadata": {
    "id": "P-Xub4iww6tq"
   },
   "source": [
    "**Final Project Option #2**"
   ]
  },
  {
   "cell_type": "markdown",
   "metadata": {
    "id": "1Dwea4vzem6w"
   },
   "source": [
    "Install package to view the visual displays."
   ]
  },
  {
   "cell_type": "code",
   "execution_count": 2,
   "metadata": {
    "colab": {
     "base_uri": "https://localhost:8080/"
    },
    "id": "NxQ2CZ-xSxQr",
    "outputId": "c7b007b6-cc00-4209-8ce1-b0988447549b"
   },
   "outputs": [
    {
     "name": "stdout",
     "output_type": "stream",
     "text": [
      "Collecting ColabTurtle\n",
      "  Downloading ColabTurtle-2.1.0.tar.gz (6.8 kB)\n",
      "  Preparing metadata (setup.py) ... \u001b[?25ldone\n",
      "\u001b[?25hBuilding wheels for collected packages: ColabTurtle\n",
      "  Building wheel for ColabTurtle (setup.py) ... \u001b[?25ldone\n",
      "\u001b[?25h  Created wheel for ColabTurtle: filename=ColabTurtle-2.1.0-py3-none-any.whl size=7641 sha256=8b65c0633d47938092f177f65b889c8f53a0a001ba6c318ac7af45d90069c210\n",
      "  Stored in directory: /Users/isabellarossi/Library/Caches/pip/wheels/64/45/a7/09104e7647ab1f65128305c09f51b96c034799f8f02bc5b648\n",
      "Successfully built ColabTurtle\n",
      "Installing collected packages: ColabTurtle\n",
      "Successfully installed ColabTurtle-2.1.0\n"
     ]
    }
   ],
   "source": [
    "!pip3 install ColabTurtle"
   ]
  },
  {
   "cell_type": "code",
   "execution_count": 3,
   "metadata": {
    "id": "8qqvj64pS4bZ"
   },
   "outputs": [],
   "source": [
    "from ColabTurtle.Turtle import*"
   ]
  },
  {
   "cell_type": "code",
   "execution_count": 4,
   "metadata": {
    "colab": {
     "base_uri": "https://localhost:8080/",
     "height": 521
    },
    "id": "Ip8uiwKPTEmW",
    "outputId": "b85f2d6f-2d30-4ecb-fc07-aba2acaea326"
   },
   "outputs": [
    {
     "data": {
      "text/html": [
       "\n",
       "      <svg width=\"800\" height=\"500\">\n",
       "        <rect width=\"100%\" height=\"100%\" fill=\"black\"/>\n",
       "        \n",
       "        <g visibility=visible transform=\"rotate(360,400,250) translate(382, 232)\">\n",
       "<path style=\" stroke:none;fill-rule:evenodd;fill:white;fill-opacity:1;\" d=\"M 18.214844 0.632812 C 16.109375 1.800781 15.011719 4.074219 15.074219 7.132812 L 15.085938 7.652344 L 14.785156 7.496094 C 13.476562 6.824219 11.957031 6.671875 10.40625 7.066406 C 8.46875 7.550781 6.515625 9.15625 4.394531 11.992188 C 3.0625 13.777344 2.679688 14.636719 3.042969 15.027344 L 3.15625 15.152344 L 3.519531 15.152344 C 4.238281 15.152344 4.828125 14.886719 8.1875 13.039062 C 9.386719 12.378906 10.371094 11.839844 10.378906 11.839844 C 10.386719 11.839844 10.355469 11.929688 10.304688 12.035156 C 9.832031 13.09375 9.257812 14.820312 8.96875 16.078125 C 7.914062 20.652344 8.617188 24.53125 11.070312 27.660156 C 11.351562 28.015625 11.363281 27.914062 10.972656 28.382812 C 8.925781 30.84375 7.945312 33.28125 8.238281 35.1875 C 8.289062 35.527344 8.28125 35.523438 8.917969 35.523438 C 10.941406 35.523438 13.074219 34.207031 15.136719 31.6875 C 15.359375 31.417969 15.328125 31.425781 15.5625 31.574219 C 16.292969 32.042969 18.023438 32.964844 18.175781 32.964844 C 18.335938 32.964844 19.941406 32.210938 20.828125 31.71875 C 20.996094 31.625 21.136719 31.554688 21.136719 31.558594 C 21.203125 31.664062 21.898438 32.414062 22.222656 32.730469 C 23.835938 34.300781 25.5625 35.132812 27.582031 35.300781 C 27.90625 35.328125 27.9375 35.308594 28.007812 34.984375 C 28.382812 33.242188 27.625 30.925781 25.863281 28.425781 L 25.542969 27.96875 L 25.699219 27.785156 C 28.945312 23.960938 29.132812 18.699219 26.257812 11.96875 L 26.207031 11.84375 L 27.945312 12.703125 C 31.53125 14.476562 32.316406 14.800781 33.03125 14.800781 C 33.976562 14.800781 33.78125 13.9375 32.472656 12.292969 C 28.519531 7.355469 25.394531 5.925781 21.921875 7.472656 L 21.558594 7.636719 L 21.578125 7.542969 C 21.699219 6.992188 21.761719 5.742188 21.699219 5.164062 C 21.496094 3.296875 20.664062 1.964844 19.003906 0.855469 C 18.480469 0.503906 18.457031 0.5 18.214844 0.632812\"/>\n",
       "</g>\n",
       "      </svg>\n",
       "    "
      ],
      "text/plain": [
       "<IPython.core.display.HTML object>"
      ]
     },
     "metadata": {},
     "output_type": "display_data"
    }
   ],
   "source": [
    "initializeTurtle()"
   ]
  },
  {
   "cell_type": "code",
   "execution_count": 7,
   "metadata": {
    "colab": {
     "base_uri": "https://localhost:8080/"
    },
    "id": "o9fy0CYFc4cC",
    "outputId": "18f8b2c5-971f-4bf7-ddf2-9463f06d5c46"
   },
   "outputs": [],
   "source": [
    "# # !apt-get install -y xvfb x11-utils\n",
    "# !pip3 install pyvirtualdisplay\n",
    "# !pip3 install turtle"
   ]
  },
  {
   "cell_type": "code",
   "execution_count": 8,
   "metadata": {
    "colab": {
     "base_uri": "https://localhost:8080/"
    },
    "id": "Nvn9qy9Zc67Y",
    "outputId": "a6003519-a02c-43bb-980a-c79409a4b0d7"
   },
   "outputs": [],
   "source": [
    "from pyvirtualdisplay import Display\n",
    "from turtle import Screen, Turtle\n",
    "\n",
    "# display = Display(visible=0, size=(800, 600))\n",
    "# display.start()\n"
   ]
  },
  {
   "cell_type": "markdown",
   "metadata": {
    "id": "s-tnZ5a40ZWp"
   },
   "source": [
    "**American Flag**"
   ]
  },
  {
   "cell_type": "code",
   "execution_count": 6,
   "metadata": {
    "id": "S3JEQ4e5o3--"
   },
   "outputs": [],
   "source": []
  },
  {
   "cell_type": "code",
   "execution_count": 9,
   "metadata": {
    "colab": {
     "base_uri": "https://localhost:8080/",
     "height": 329
    },
    "id": "TjR4Xkaz9I1W",
    "outputId": "e6a2a321-2bff-4b6a-a2e8-db1ae2545b24"
   },
   "outputs": [],
   "source": [
    "##American Flag\n",
    "\n",
    "import turtle\n",
    "sc = turtle.Screen()\n",
    "turtle = turtle.Turtle()\n",
    "\n",
    "# draw rectangle (base for flag)\n",
    "def draw_rectangle(length, height, color):\n",
    "    turtle.color(color)\n",
    "    turtle.begin_fill()\n",
    "    for i in range(2):\n",
    "        turtle.forward(length)\n",
    "        turtle.right(90)\n",
    "        turtle.forward(height)\n",
    "        turtle.right(90)\n",
    "    turtle.end_fill()\n",
    "\n",
    "\n",
    "def draw_star(size, color):\n",
    "    turtle.color(color)\n",
    "    turtle.begin_fill()\n",
    "    turtle.penup() # stop drawing\n",
    "    turtle.right(90)\n",
    "    turtle.forward(size * 0.4)\n",
    "    turtle.right(162)\n",
    "    turtle.pendown() # start drawing\n",
    "    for i in range(5):\n",
    "        turtle.forward(5)\n",
    "        turtle.left(72)\n",
    "        turtle.forward(5)\n",
    "        turtle.right(144)\n",
    "    turtle.end_fill()\n",
    "    turtle.penup() # stop drawing\n",
    "    turtle.right(36)\n",
    "    turtle.forward(size * 1.3)\n",
    "    turtle.left(90)\n",
    "    turtle.forward(size * 0.5)\n",
    "    turtle.right(90)\n",
    "    turtle.pendown() # start drawing\n",
    "    \n",
    "    \n",
    "# get_color function to establish all three colors\n",
    "def get_color(color):\n",
    "    if color == \"red\":\n",
    "        return 191, 10, 48\n",
    "    elif color == \"white\":\n",
    "        return 255, 255, 255\n",
    "    elif color == \"blue\":\n",
    "        return 0, 40, 104\n",
    "\n",
    "# Draw the flag itself\n",
    "def draw_flag(height):\n",
    "    width = height * 1.9\n",
    "    stripe_height = height / 13\n",
    "    union_height = stripe_height * 7\n",
    "    union_width = width * 0.45\n",
    "    star_size = stripe_height * 0.6\n",
    "    turtle.speed(0)\n",
    "    turtle.penup() # stop drawing\n",
    "    turtle.goto(-width / 2, height / 2)\n",
    "\n",
    "    turtle.pendown() # start drawing \n",
    "    turtle.hideturtle()\n",
    "    for i in range(13):\n",
    "        if i % 2 == 0:\n",
    "            color = \"red\"\n",
    "        else:\n",
    "            color = \"white\"\n",
    "        draw_rectangle(width, stripe_height, color)\n",
    "        turtle.penup() # stop drawing\n",
    "        turtle.goto(-width / 2, height / 2 - (i + 1) * stripe_height)\n",
    "        turtle.pendown() #start drawing\n",
    "    turtle.penup()\n",
    "    turtle.goto(-width / 2, height / 2)\n",
    "    turtle.pendown()\n",
    "    draw_rectangle(union_width, union_height, \"blue\")\n",
    "    for i in range(9):\n",
    "        if i%2 == 1: \n",
    "            for j in range(1,6):\n",
    "                x = -width/2 + (j*2.2 + 0.3) * stripe_height * 0.8\n",
    "                y = height / 2 -0.3 - (i+ 1) * stripe_height * 0.73\n",
    "                turtle.penup() # stop drawing\n",
    "                turtle.goto(x, y)\n",
    "                turtle.pendown() # start drawing\n",
    "                draw_star(star_size, \"white\")\n",
    "        if i%2 == 0:\n",
    "            for j in range(6):\n",
    "                x = -width/2   + (j*2.2 + 1.1) * stripe_height * 0.8\n",
    "                y = height/ 2  -0.3 - (i + 1) * stripe_height * 0.73\n",
    "                turtle.penup() # stop drawing\n",
    "                turtle.goto(x, y)\n",
    "                turtle.pendown() # start drawing\n",
    "                draw_star(star_size, \"white\")\n",
    "            \n",
    "def main():\n",
    "    flag_height = 300\n",
    "    draw_flag(flag_height)\n",
    "main()"
   ]
  },
  {
   "cell_type": "code",
   "execution_count": null,
   "metadata": {},
   "outputs": [],
   "source": []
  },
  {
   "cell_type": "markdown",
   "metadata": {
    "id": "YqICMuQ9mRjv"
   },
   "source": [
    "**Brazilian Flag**"
   ]
  },
  {
   "cell_type": "code",
   "execution_count": 1,
   "metadata": {
    "colab": {
     "base_uri": "https://localhost:8080/",
     "height": 389
    },
    "id": "vy1wnJOsmbek",
    "outputId": "358561ce-c75e-4faa-8a21-14f387da4fc4"
   },
   "outputs": [],
   "source": [
    "#for brazilian flag: \n",
    "\n",
    "from turtle import*\n",
    "speed(5)\n",
    "width(1)\n",
    "penup()\n",
    "goto(130, 130)\n",
    "pendown()\n",
    "color('#009C3B')\n",
    "begin_fill()\n",
    "right(90)\n",
    "for i in range(2):\n",
    "    fd(160)\n",
    "    right(90)\n",
    "    fd(260)\n",
    "    right(90)\n",
    "end_fill()\n",
    "goto(0.15,0)\n",
    "color('#FFDF00')\n",
    "begin_fill()\n",
    "right(120)\n",
    "for i in range(2):\n",
    "    fd(110)\n",
    "    right(120)\n",
    "    fd(110)\n",
    "    right(60)\n",
    "end_fill()\n",
    "goto(1, 18)\n",
    "color('#002776')\n",
    "begin_fill()\n",
    "left(30)\n",
    "circle(-35)  #size\n",
    "end_fill()\n",
    "\n",
    "\n",
    "# circle(-45,110)\n",
    "# goto(0.15,0)\n",
    "goto(-32,65)\n",
    "right(150)\n",
    "color('white')\n",
    "begin_fill()\n",
    "circle(-60,70)\n",
    "right(90)\n",
    "fd(5)\n",
    "right(90)\n",
    "circle(60,70)\n",
    "# fd(10)\n",
    "# left(90)\n",
    "\n",
    "# circle(120,60)\n",
    "# right(90)\n",
    "end_fill()\n",
    "\n",
    "\n",
    "hideturtle()\n"
   ]
  }
 ],
 "metadata": {
  "@webio": {
   "lastCommId": null,
   "lastKernelId": null
  },
  "colab": {
   "provenance": []
  },
  "kernelspec": {
   "display_name": "Python 3 (ipykernel)",
   "language": "python",
   "name": "python3"
  },
  "language_info": {
   "codemirror_mode": {
    "name": "ipython",
    "version": 3
   },
   "file_extension": ".py",
   "mimetype": "text/x-python",
   "name": "python",
   "nbconvert_exporter": "python",
   "pygments_lexer": "ipython3",
   "version": "3.10.9"
  }
 },
 "nbformat": 4,
 "nbformat_minor": 1
}
